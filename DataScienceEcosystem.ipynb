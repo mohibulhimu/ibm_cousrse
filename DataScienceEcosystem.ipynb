{
 "cells": [
  {
   "cell_type": "markdown",
   "id": "d7854ed9-b406-471b-a0a3-83e02eaaba9d",
   "metadata": {
    "tags": []
   },
   "source": [
    "Data Science Tools and Ecosystem"
   ]
  },
  {
   "cell_type": "markdown",
   "id": "c7df1fc6-a9bf-474e-af06-fed84e2c926f",
   "metadata": {},
   "source": [
    "In this notebook, Data Science Tools and Ecosystem are summarized."
   ]
  },
  {
   "cell_type": "markdown",
   "id": "8549e872-ee86-451c-8d96-f0150e5e140b",
   "metadata": {},
   "source": [
    "Some of the popular languages that Data Scientists use are:"
   ]
  },
  {
   "cell_type": "markdown",
   "id": "af10f524-52e2-4a31-8168-ea88ff3eaebd",
   "metadata": {
    "tags": []
   },
   "source": [
    "1. Python\n",
    "2. R\n",
    "3. Java"
   ]
  },
  {
   "cell_type": "markdown",
   "id": "c41a6f4e-400d-4b21-ae04-18b33ed40c00",
   "metadata": {},
   "source": [
    "Some of the commonly used libraries used by Data Scientists include:"
   ]
  },
  {
   "cell_type": "markdown",
   "id": "f2466120-69cc-40b7-9f4b-b1bf7cca0b35",
   "metadata": {},
   "source": [
    "1. Panda\n",
    "2. ggplot\n",
    "3. Numpy"
   ]
  },
  {
   "cell_type": "markdown",
   "id": "7219fab2-e1c9-468f-a1b4-966049e6fd85",
   "metadata": {},
   "source": [
    "Data Science Tools"
   ]
  },
  {
   "cell_type": "markdown",
   "id": "5bafea57-ee8b-43fb-ab50-26294782292a",
   "metadata": {
    "tags": []
   },
   "source": [
    "1. Rstudio\n",
    "3. Jupiter Notebook\n",
    "2. VScode\n",
    "4. Github"
   ]
  },
  {
   "cell_type": "markdown",
   "id": "b3eb9ea1-c921-4eec-aeb8-96d2d625a8bf",
   "metadata": {},
   "source": [
    "Below are a few examples of evaluating arithmetic expressions in Python"
   ]
  },
  {
   "cell_type": "markdown",
   "id": "9035be63-e3b9-4c5c-b50c-0bbf39661015",
   "metadata": {},
   "source": [
    "+ , -,  *,  / "
   ]
  },
  {
   "cell_type": "markdown",
   "id": "63c562e9-b21b-49d7-af8b-2fa93a98d305",
   "metadata": {},
   "source": [
    "This a simple arithmetic expression to mutiply then add integers"
   ]
  },
  {
   "cell_type": "code",
   "execution_count": 10,
   "id": "9aff92fa-8525-4edb-9f97-5ed58665b616",
   "metadata": {
    "tags": []
   },
   "outputs": [
    {
     "data": {
      "text/plain": [
       "17"
      ]
     },
     "execution_count": 10,
     "metadata": {},
     "output_type": "execute_result"
    }
   ],
   "source": [
    "(3*4)+5"
   ]
  },
  {
   "cell_type": "markdown",
   "id": "8f9d28dd-6e12-49da-a772-3cbc600de696",
   "metadata": {},
   "source": [
    "This will convert 200 minutes to hours by diving by 60"
   ]
  },
  {
   "cell_type": "code",
   "execution_count": 11,
   "id": "3091e574-eff0-460a-a25c-df1f61c3b9af",
   "metadata": {
    "tags": []
   },
   "outputs": [
    {
     "data": {
      "text/plain": [
       "3.3333333333333335"
      ]
     },
     "execution_count": 11,
     "metadata": {},
     "output_type": "execute_result"
    }
   ],
   "source": [
    "200/60"
   ]
  },
  {
   "cell_type": "markdown",
   "id": "2e5f02c7-d462-4883-94f8-ef3e785ecb9a",
   "metadata": {},
   "source": [
    "Objectives"
   ]
  },
  {
   "cell_type": "markdown",
   "id": "ee7cc185-3219-45b6-ae58-871633b46604",
   "metadata": {
    "tags": []
   },
   "source": [
    "List popular languages for Data Science :\n",
    "    python\n",
    "    R\n",
    "    c\n",
    "    C++"
   ]
  },
  {
   "cell_type": "markdown",
   "id": "cf5f5332-1ee6-4a43-bd79-2486c7d37aac",
   "metadata": {},
   "source": [
    "Author Mohibul"
   ]
  },
  {
   "cell_type": "code",
   "execution_count": null,
   "id": "1c06e26e-5438-4a08-81e8-1f9ffd59c296",
   "metadata": {},
   "outputs": [],
   "source": []
  }
 ],
 "metadata": {
  "kernelspec": {
   "display_name": "Python",
   "language": "python",
   "name": "conda-env-python-py"
  },
  "language_info": {
   "codemirror_mode": {
    "name": "ipython",
    "version": 3
   },
   "file_extension": ".py",
   "mimetype": "text/x-python",
   "name": "python",
   "nbconvert_exporter": "python",
   "pygments_lexer": "ipython3",
   "version": "3.7.12"
  }
 },
 "nbformat": 4,
 "nbformat_minor": 5
}
